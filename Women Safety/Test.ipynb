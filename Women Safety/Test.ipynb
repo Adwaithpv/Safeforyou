{
 "cells": [
  {
   "cell_type": "code",
   "execution_count": null,
   "metadata": {},
   "outputs": [
    {
     "name": "stdout",
     "output_type": "stream",
     "text": [
      "Listening for speech...\n",
      "Recognized Speech: hi how are you\n"
     ]
    },
    {
     "data": {
      "text/plain": [
       "'hi how are you'"
      ]
     },
     "execution_count": 3,
     "metadata": {},
     "output_type": "execute_result"
    }
   ],
   "source": [
    "import speech_recognition as sr\n",
    "\n",
    "def recognize_speech():\n",
    "    recognizer = sr.Recognizer()\n",
    "    with sr.Microphone() as source:\n",
    "        print(\"Listening for Distress\")\n",
    "        recognizer.adjust_for_ambient_noise(source)\n",
    "        audio = recognizer.listen(source)\n",
    "    try:\n",
    "        text = recognizer.recognize_google(audio)\n",
    "        print(text)\n",
    "        return text\n",
    "    except sr.UnknownValueError:\n",
    "        print(\"Could not understand Voice.\")\n",
    "    except sr.RequestError:\n",
    "        print(\"External Error\")\n",
    "\n",
    "recognize_speech()\n"
   ]
  },
  {
   "cell_type": "code",
   "execution_count": null,
   "metadata": {},
   "outputs": [
    {
     "name": "stdout",
     "output_type": "stream",
     "text": [
      "Listening for any distress\n",
      "my name is help rohan help emergency\n",
      "Distress detected! Triggering alert...\n"
     ]
    },
    {
     "data": {
      "text/plain": [
       "True"
      ]
     },
     "execution_count": 6,
     "metadata": {},
     "output_type": "execute_result"
    }
   ],
   "source": [
    "import speech_recognition as sr\n",
    "\n",
    "DISTRESS_PHRASES = {\"help\", \"stop\", \"police\", \"emergency\", \"save me\", \"danger\"}\n",
    "\n",
    "def recognize_speech():\n",
    "    recognizer = sr.Recognizer()\n",
    "    with sr.Microphone() as source:\n",
    "        print(\"Listening for any distress\")\n",
    "        recognizer.adjust_for_ambient_noise(source)\n",
    "        audio = recognizer.listen(source,timeout=5)\n",
    "\n",
    "    try:\n",
    "        text = recognizer.recognize_google(audio).lower()\n",
    "        print(text)\n",
    "\n",
    "        if any(phrase in text for phrase in DISTRESS_PHRASES):\n",
    "            print(\"Distress detected! Triggering alert...\")\n",
    "            return True\n",
    "        else:\n",
    "            print(\"No distress detected.\")\n",
    "            return False\n",
    "\n",
    "    except sr.UnknownValueError:\n",
    "        print(\"Could not understand voice.\")\n",
    "    except sr.RequestError:\n",
    "        print(\"Internal Error\")\n",
    "\n",
    "recognize_speech()"
   ]
  },
  {
   "cell_type": "code",
   "execution_count": 3,
   "metadata": {},
   "outputs": [
    {
     "name": "stdout",
     "output_type": "stream",
     "text": [
      "Listening for distress\n",
      "my name is siddhant help help help help help help help help help\n",
      "Distress detected! Triggering alert...\n"
     ]
    },
    {
     "data": {
      "text/plain": [
       "True"
      ]
     },
     "execution_count": 3,
     "metadata": {},
     "output_type": "execute_result"
    }
   ],
   "source": [
    "import speech_recognition as sr\n",
    "import librosa\n",
    "import numpy as np\n",
    "import io\n",
    "\n",
    "DISTRESS_PHRASES = {\"help\", \"stop\", \"police\", \"emergency\", \"save me\", \"danger\"}\n",
    "LOUDNESS_THRESHOLD = 0.02\n",
    "\n",
    "def recognize_speech():\n",
    "    recognizer = sr.Recognizer()\n",
    "    with sr.Microphone() as source:\n",
    "        print(\"Listening for distress\")\n",
    "        recognizer.adjust_for_ambient_noise(source)\n",
    "        audio = recognizer.listen(source,timeout=5)\n",
    "\n",
    "    try:\n",
    "        text = recognizer.recognize_google(audio).lower()\n",
    "        print(text)\n",
    "\n",
    "        distress_detected = any(phrase in text for phrase in DISTRESS_PHRASES)\n",
    "        waveform, sample_rate = librosa.load(io.BytesIO(audio.get_wav_data()), sr=None)\n",
    "        loudness = np.mean(librosa.feature.rms(y=waveform))\n",
    "        yelling_detected = loudness > LOUDNESS_THRESHOLD\n",
    "\n",
    "        if distress_detected or yelling_detected:\n",
    "            print(\"Distress detected! Triggering alert...\")\n",
    "            return True\n",
    "        else:\n",
    "            print(\"No distress detected.\")\n",
    "            return False\n",
    "\n",
    "    except sr.UnknownValueError:\n",
    "        print(\"Could not understand voice.\")\n",
    "    except sr.RequestError:\n",
    "        print(\"Internal Error\")\n",
    "\n",
    "recognize_speech()"
   ]
  }
 ],
 "metadata": {
  "kernelspec": {
   "display_name": "Python 3",
   "language": "python",
   "name": "python3"
  },
  "language_info": {
   "codemirror_mode": {
    "name": "ipython",
    "version": 3
   },
   "file_extension": ".py",
   "mimetype": "text/x-python",
   "name": "python",
   "nbconvert_exporter": "python",
   "pygments_lexer": "ipython3",
   "version": "3.12.1"
  }
 },
 "nbformat": 4,
 "nbformat_minor": 2
}
